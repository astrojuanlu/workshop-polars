{
 "cells": [
  {
   "cell_type": "markdown",
   "id": "85110502",
   "metadata": {},
   "source": [
    "# Intro to Polars\n",
    "\n",
    "## Outline\n",
    "\n",
    "1. Introduction, basic Polars DataFrame API, differences with pandas, simple I/O\n",
    "2. The expression system, filtering rows, transforming columns\n",
    "3. Working with semi-structured data, integration with Pydantic\n",
    "4. Cloud storage, out of core processing with the new streaming engine"
   ]
  },
  {
   "cell_type": "markdown",
   "id": "c3163057",
   "metadata": {},
   "source": [
    "## 1. Introduction"
   ]
  },
  {
   "cell_type": "markdown",
   "id": "c7b78808",
   "metadata": {},
   "source": [
    "### What is Polars?\n",
    "\n",
    "https://pola.rs/\n",
    "\n",
    "![Polars](static/polars_github_banner.svg)\n",
    "\n",
    "> Polars is an open-source library for data manipulation, known for being one of the fastest data processing solutions on a single machine. It features a well-structured, typed API that is both expressive and easy to use.\n",
    "\n",
    "In summary:\n",
    "\n",
    "- Expressive API (more familiar to R and Spark users, still approachable to pandas users)\n",
    "- Fast (thanks to its Rust core)\n",
    "- Support for zero-copy Apache Arrow data\n",
    "- Out of core (with its new streaming engine)"
   ]
  },
  {
   "cell_type": "markdown",
   "id": "3f7f18f3",
   "metadata": {},
   "source": [
    "### Dataset\n",
    "\n",
    "We will play with [data from Stack Overflow](https://www.kaggle.com/datasets/stackoverflow/stacksample):\n",
    "\n",
    "![Stack Overflow data sample](static/stacksample.png)"
   ]
  },
  {
   "cell_type": "code",
   "execution_count": 36,
   "id": "83a770bb",
   "metadata": {},
   "outputs": [],
   "source": [
    "# Uncomment to generate a sample of the dataset\n",
    "#\n",
    "# import polars as pl\n",
    "#\n",
    "# pl.scan_csv(\"data/Questions.csv\", encoding=\"utf8-lossy\").collect(engine=\"streaming\").sample(fraction=0.01).write_parquet(\"data/questions-sample.parquet\")\n",
    "# pl.scan_csv(\"data/Tags.csv\").collect(engine=\"streaming\").write_parquet(\"data/tags.parquet\")"
   ]
  },
  {
   "cell_type": "code",
   "execution_count": 37,
   "id": "516ed22c",
   "metadata": {},
   "outputs": [],
   "source": [
    "import polars as pl"
   ]
  },
  {
   "cell_type": "code",
   "execution_count": 38,
   "id": "f1529246",
   "metadata": {},
   "outputs": [
    {
     "data": {
      "text/html": [
       "<div><style>\n",
       ".dataframe > thead > tr,\n",
       ".dataframe > tbody > tr {\n",
       "  text-align: right;\n",
       "  white-space: pre-wrap;\n",
       "}\n",
       "</style>\n",
       "<small>shape: (5, 7)</small><table border=\"1\" class=\"dataframe\"><thead><tr><th>Id</th><th>OwnerUserId</th><th>CreationDate</th><th>ClosedDate</th><th>Score</th><th>Title</th><th>Body</th></tr><tr><td>i64</td><td>str</td><td>str</td><td>str</td><td>i64</td><td>str</td><td>str</td></tr></thead><tbody><tr><td>8869230</td><td>&quot;1109161&quot;</td><td>&quot;2012-01-15T11:11:05Z&quot;</td><td>&quot;NA&quot;</td><td>1</td><td>&quot;How to display two or more mar…</td><td>&quot;&lt;p&gt;I have a question about the…</td></tr><tr><td>31915780</td><td>&quot;4021972&quot;</td><td>&quot;2015-08-10T09:15:43Z&quot;</td><td>&quot;NA&quot;</td><td>-2</td><td>&quot;AngularJS: $http.get 405 (Meth…</td><td>&quot;&lt;p&gt;when I get a request from a…</td></tr><tr><td>30964930</td><td>&quot;2786156&quot;</td><td>&quot;2015-06-21T13:16:50Z&quot;</td><td>&quot;NA&quot;</td><td>0</td><td>&quot;Invariant parameters in Java&quot;</td><td>&quot;&lt;p&gt;I&#x27;m reading Bloch&#x27;s Effecti…</td></tr><tr><td>38084100</td><td>&quot;2938167&quot;</td><td>&quot;2016-06-28T18:51:24Z&quot;</td><td>&quot;NA&quot;</td><td>0</td><td>&quot;How to make Excel macro splitt…</td><td>&quot;&lt;p&gt;For splitting a file into s…</td></tr><tr><td>9601400</td><td>&quot;346977&quot;</td><td>&quot;2012-03-07T12:19:37Z&quot;</td><td>&quot;NA&quot;</td><td>2</td><td>&quot;Rails Custom Validators: Testi…</td><td>&quot;&lt;p&gt;I&#x27;m trying to write up a ra…</td></tr></tbody></table></div>"
      ],
      "text/plain": [
       "shape: (5, 7)\n",
       "┌──────────┬─────────────┬─────────────────┬────────────┬───────┬─────────────────┬────────────────┐\n",
       "│ Id       ┆ OwnerUserId ┆ CreationDate    ┆ ClosedDate ┆ Score ┆ Title           ┆ Body           │\n",
       "│ ---      ┆ ---         ┆ ---             ┆ ---        ┆ ---   ┆ ---             ┆ ---            │\n",
       "│ i64      ┆ str         ┆ str             ┆ str        ┆ i64   ┆ str             ┆ str            │\n",
       "╞══════════╪═════════════╪═════════════════╪════════════╪═══════╪═════════════════╪════════════════╡\n",
       "│ 8869230  ┆ 1109161     ┆ 2012-01-15T11:1 ┆ NA         ┆ 1     ┆ How to display  ┆ <p>I have a    │\n",
       "│          ┆             ┆ 1:05Z           ┆            ┆       ┆ two or more     ┆ question about │\n",
       "│          ┆             ┆                 ┆            ┆       ┆ mar…            ┆ the…           │\n",
       "│ 31915780 ┆ 4021972     ┆ 2015-08-10T09:1 ┆ NA         ┆ -2    ┆ AngularJS:      ┆ <p>when I get  │\n",
       "│          ┆             ┆ 5:43Z           ┆            ┆       ┆ $http.get 405   ┆ a request from │\n",
       "│          ┆             ┆                 ┆            ┆       ┆ (Meth…          ┆ a…             │\n",
       "│ 30964930 ┆ 2786156     ┆ 2015-06-21T13:1 ┆ NA         ┆ 0     ┆ Invariant       ┆ <p>I'm reading │\n",
       "│          ┆             ┆ 6:50Z           ┆            ┆       ┆ parameters in   ┆ Bloch's        │\n",
       "│          ┆             ┆                 ┆            ┆       ┆ Java            ┆ Effecti…       │\n",
       "│ 38084100 ┆ 2938167     ┆ 2016-06-28T18:5 ┆ NA         ┆ 0     ┆ How to make     ┆ <p>For         │\n",
       "│          ┆             ┆ 1:24Z           ┆            ┆       ┆ Excel macro     ┆ splitting a    │\n",
       "│          ┆             ┆                 ┆            ┆       ┆ splitt…         ┆ file into s…   │\n",
       "│ 9601400  ┆ 346977      ┆ 2012-03-07T12:1 ┆ NA         ┆ 2     ┆ Rails Custom    ┆ <p>I'm trying  │\n",
       "│          ┆             ┆ 9:37Z           ┆            ┆       ┆ Validators:     ┆ to write up a  │\n",
       "│          ┆             ┆                 ┆            ┆       ┆ Testi…          ┆ ra…            │\n",
       "└──────────┴─────────────┴─────────────────┴────────────┴───────┴─────────────────┴────────────────┘"
      ]
     },
     "execution_count": 38,
     "metadata": {},
     "output_type": "execute_result"
    }
   ],
   "source": [
    "df = pl.read_parquet(\"data/questions-sample.parquet\")\n",
    "df.head()"
   ]
  },
  {
   "cell_type": "code",
   "execution_count": 39,
   "id": "4a8313c1",
   "metadata": {},
   "outputs": [
    {
     "data": {
      "text/html": [
       "<div><style>\n",
       ".dataframe > thead > tr,\n",
       ".dataframe > tbody > tr {\n",
       "  text-align: right;\n",
       "  white-space: pre-wrap;\n",
       "}\n",
       "</style>\n",
       "<small>shape: (5, 2)</small><table border=\"1\" class=\"dataframe\"><thead><tr><th>Id</th><th>Tag</th></tr><tr><td>i64</td><td>str</td></tr></thead><tbody><tr><td>80</td><td>&quot;flex&quot;</td></tr><tr><td>80</td><td>&quot;actionscript-3&quot;</td></tr><tr><td>80</td><td>&quot;air&quot;</td></tr><tr><td>90</td><td>&quot;svn&quot;</td></tr><tr><td>90</td><td>&quot;tortoisesvn&quot;</td></tr></tbody></table></div>"
      ],
      "text/plain": [
       "shape: (5, 2)\n",
       "┌─────┬────────────────┐\n",
       "│ Id  ┆ Tag            │\n",
       "│ --- ┆ ---            │\n",
       "│ i64 ┆ str            │\n",
       "╞═════╪════════════════╡\n",
       "│ 80  ┆ flex           │\n",
       "│ 80  ┆ actionscript-3 │\n",
       "│ 80  ┆ air            │\n",
       "│ 90  ┆ svn            │\n",
       "│ 90  ┆ tortoisesvn    │\n",
       "└─────┴────────────────┘"
      ]
     },
     "execution_count": 39,
     "metadata": {},
     "output_type": "execute_result"
    }
   ],
   "source": [
    "df_tags = pl.read_parquet(\"data/tags.parquet\")\n",
    "df_tags.head()"
   ]
  },
  {
   "cell_type": "code",
   "execution_count": 40,
   "id": "02c9b50a",
   "metadata": {},
   "outputs": [
    {
     "data": {
      "text/plain": [
       "(12642, 3750994)"
      ]
     },
     "execution_count": 40,
     "metadata": {},
     "output_type": "execute_result"
    }
   ],
   "source": [
    "len(df), len(df_tags)"
   ]
  },
  {
   "cell_type": "code",
   "execution_count": 41,
   "id": "6b31f77b",
   "metadata": {},
   "outputs": [
    {
     "name": "stdout",
     "output_type": "stream",
     "text": [
      "Estimated size in memory (questions sample): 18 MiB\n"
     ]
    }
   ],
   "source": [
    "print(f\"Estimated size in memory (questions sample): {df.estimated_size() >> 20} MiB\")"
   ]
  },
  {
   "cell_type": "code",
   "execution_count": 42,
   "id": "08eafbc1",
   "metadata": {},
   "outputs": [
    {
     "name": "stdout",
     "output_type": "stream",
     "text": [
      "6.1M\tdata/questions-sample.parquet\n",
      " 14M\tdata/tags.parquet\n"
     ]
    }
   ],
   "source": [
    "!du -h data/{questions*,tags}.parquet"
   ]
  },
  {
   "cell_type": "code",
   "execution_count": 43,
   "id": "0c08a317",
   "metadata": {},
   "outputs": [
    {
     "name": "stdout",
     "output_type": "stream",
     "text": [
      "shape: (3, 7)\n",
      "┌──────────┬─────────────┬─────────────────┬────────────┬───────┬─────────────────┬────────────────┐\n",
      "│ Id       ┆ OwnerUserId ┆ CreationDate    ┆ ClosedDate ┆ Score ┆ Title           ┆ Body           │\n",
      "│ ---      ┆ ---         ┆ ---             ┆ ---        ┆ ---   ┆ ---             ┆ ---            │\n",
      "│ i64      ┆ str         ┆ str             ┆ str        ┆ i64   ┆ str             ┆ str            │\n",
      "╞══════════╪═════════════╪═════════════════╪════════════╪═══════╪═════════════════╪════════════════╡\n",
      "│ 8869230  ┆ 1109161     ┆ 2012-01-15T11:1 ┆ NA         ┆ 1     ┆ How to display  ┆ <p>I have a    │\n",
      "│          ┆             ┆ 1:05Z           ┆            ┆       ┆ two or more     ┆ question about │\n",
      "│          ┆             ┆                 ┆            ┆       ┆ mar…            ┆ the…           │\n",
      "│ 31915780 ┆ 4021972     ┆ 2015-08-10T09:1 ┆ NA         ┆ -2    ┆ AngularJS:      ┆ <p>when I get  │\n",
      "│          ┆             ┆ 5:43Z           ┆            ┆       ┆ $http.get 405   ┆ a request from │\n",
      "│          ┆             ┆                 ┆            ┆       ┆ (Meth…          ┆ a…             │\n",
      "│ 30964930 ┆ 2786156     ┆ 2015-06-21T13:1 ┆ NA         ┆ 0     ┆ Invariant       ┆ <p>I'm reading │\n",
      "│          ┆             ┆ 6:50Z           ┆            ┆       ┆ parameters in   ┆ Bloch's        │\n",
      "│          ┆             ┆                 ┆            ┆       ┆ Java            ┆ Effecti…       │\n",
      "└──────────┴─────────────┴─────────────────┴────────────┴───────┴─────────────────┴────────────────┘\n"
     ]
    }
   ],
   "source": [
    "print(df.head(3))"
   ]
  },
  {
   "cell_type": "code",
   "execution_count": 44,
   "id": "a3f8baf0",
   "metadata": {},
   "outputs": [
    {
     "data": {
      "text/html": [
       "<div><style>\n",
       ".dataframe > thead > tr,\n",
       ".dataframe > tbody > tr {\n",
       "  text-align: right;\n",
       "  white-space: pre-wrap;\n",
       "}\n",
       "</style>\n",
       "<small>shape: (9, 8)</small><table border=\"1\" class=\"dataframe\"><thead><tr><th>statistic</th><th>Id</th><th>OwnerUserId</th><th>CreationDate</th><th>ClosedDate</th><th>Score</th><th>Title</th><th>Body</th></tr><tr><td>str</td><td>f64</td><td>str</td><td>str</td><td>str</td><td>f64</td><td>str</td><td>str</td></tr></thead><tbody><tr><td>&quot;count&quot;</td><td>12642.0</td><td>&quot;12642&quot;</td><td>&quot;12642&quot;</td><td>&quot;12642&quot;</td><td>12642.0</td><td>&quot;12642&quot;</td><td>&quot;12642&quot;</td></tr><tr><td>&quot;null_count&quot;</td><td>0.0</td><td>&quot;0&quot;</td><td>&quot;0&quot;</td><td>&quot;0&quot;</td><td>0.0</td><td>&quot;0&quot;</td><td>&quot;0&quot;</td></tr><tr><td>&quot;mean&quot;</td><td>2.1342e7</td><td>null</td><td>null</td><td>null</td><td>1.730264</td><td>null</td><td>null</td></tr><tr><td>&quot;std&quot;</td><td>1.1516e7</td><td>null</td><td>null</td><td>null</td><td>10.770727</td><td>null</td><td>null</td></tr><tr><td>&quot;min&quot;</td><td>2750.0</td><td>&quot;1000030&quot;</td><td>&quot;2008-08-05T19:51:29Z&quot;</td><td>&quot;2010-08-14T20:49:33Z&quot;</td><td>-9.0</td><td>&quot; Cached hidden input value is …</td><td>&quot;&lt;blockquote&gt;\n",
       "&nbsp;&nbsp;&lt;p&gt;&lt;strong&gt;Poss…</td></tr><tr><td>&quot;25%&quot;</td><td>1.137921e7</td><td>null</td><td>null</td><td>null</td><td>0.0</td><td>null</td><td>null</td></tr><tr><td>&quot;50%&quot;</td><td>2.187941e7</td><td>null</td><td>null</td><td>null</td><td>0.0</td><td>null</td><td>null</td></tr><tr><td>&quot;75%&quot;</td><td>3.155418e7</td><td>null</td><td>null</td><td>null</td><td>1.0</td><td>null</td><td>null</td></tr><tr><td>&quot;max&quot;</td><td>4.014e7</td><td>&quot;NA&quot;</td><td>&quot;2016-10-19T19:29:06Z&quot;</td><td>&quot;NA&quot;</td><td>582.0</td><td>&quot;zoom property, for regular vid…</td><td>&quot;&lt;ul&gt;\n",
       "&lt;li&gt;I have a task which c…</td></tr></tbody></table></div>"
      ],
      "text/plain": [
       "shape: (9, 8)\n",
       "┌────────────┬────────────┬────────────┬───────────┬───────────┬───────────┬───────────┬───────────┐\n",
       "│ statistic  ┆ Id         ┆ OwnerUserI ┆ CreationD ┆ ClosedDat ┆ Score     ┆ Title     ┆ Body      │\n",
       "│ ---        ┆ ---        ┆ d          ┆ ate       ┆ e         ┆ ---       ┆ ---       ┆ ---       │\n",
       "│ str        ┆ f64        ┆ ---        ┆ ---       ┆ ---       ┆ f64       ┆ str       ┆ str       │\n",
       "│            ┆            ┆ str        ┆ str       ┆ str       ┆           ┆           ┆           │\n",
       "╞════════════╪════════════╪════════════╪═══════════╪═══════════╪═══════════╪═══════════╪═══════════╡\n",
       "│ count      ┆ 12642.0    ┆ 12642      ┆ 12642     ┆ 12642     ┆ 12642.0   ┆ 12642     ┆ 12642     │\n",
       "│ null_count ┆ 0.0        ┆ 0          ┆ 0         ┆ 0         ┆ 0.0       ┆ 0         ┆ 0         │\n",
       "│ mean       ┆ 2.1342e7   ┆ null       ┆ null      ┆ null      ┆ 1.730264  ┆ null      ┆ null      │\n",
       "│ std        ┆ 1.1516e7   ┆ null       ┆ null      ┆ null      ┆ 10.770727 ┆ null      ┆ null      │\n",
       "│ min        ┆ 2750.0     ┆ 1000030    ┆ 2008-08-0 ┆ 2010-08-1 ┆ -9.0      ┆ Cached    ┆ <blockquo │\n",
       "│            ┆            ┆            ┆ 5T19:51:2 ┆ 4T20:49:3 ┆           ┆ hidden    ┆ te>       │\n",
       "│            ┆            ┆            ┆ 9Z        ┆ 3Z        ┆           ┆ input     ┆ <p><stron │\n",
       "│            ┆            ┆            ┆           ┆           ┆           ┆ value is  ┆ g>Poss…   │\n",
       "│            ┆            ┆            ┆           ┆           ┆           ┆ …         ┆           │\n",
       "│ 25%        ┆ 1.137921e7 ┆ null       ┆ null      ┆ null      ┆ 0.0       ┆ null      ┆ null      │\n",
       "│ 50%        ┆ 2.187941e7 ┆ null       ┆ null      ┆ null      ┆ 0.0       ┆ null      ┆ null      │\n",
       "│ 75%        ┆ 3.155418e7 ┆ null       ┆ null      ┆ null      ┆ 1.0       ┆ null      ┆ null      │\n",
       "│ max        ┆ 4.014e7    ┆ NA         ┆ 2016-10-1 ┆ NA        ┆ 582.0     ┆ zoom      ┆ <ul>      │\n",
       "│            ┆            ┆            ┆ 9T19:29:0 ┆           ┆           ┆ property, ┆ <li>I     │\n",
       "│            ┆            ┆            ┆ 6Z        ┆           ┆           ┆ for       ┆ have a    │\n",
       "│            ┆            ┆            ┆           ┆           ┆           ┆ regular   ┆ task      │\n",
       "│            ┆            ┆            ┆           ┆           ┆           ┆ vid…      ┆ which c…  │\n",
       "└────────────┴────────────┴────────────┴───────────┴───────────┴───────────┴───────────┴───────────┘"
      ]
     },
     "execution_count": 44,
     "metadata": {},
     "output_type": "execute_result"
    }
   ],
   "source": [
    "df.describe()"
   ]
  },
  {
   "cell_type": "code",
   "execution_count": 45,
   "id": "6f42df3f",
   "metadata": {},
   "outputs": [
    {
     "data": {
      "text/html": [
       "<div><style>\n",
       ".dataframe > thead > tr,\n",
       ".dataframe > tbody > tr {\n",
       "  text-align: right;\n",
       "  white-space: pre-wrap;\n",
       "}\n",
       "</style>\n",
       "<small>shape: (10, 2)</small><table border=\"1\" class=\"dataframe\"><thead><tr><th>Tag</th><th>count</th></tr><tr><td>str</td><td>u32</td></tr></thead><tbody><tr><td>&quot;javascript&quot;</td><td>124155</td></tr><tr><td>&quot;java&quot;</td><td>115212</td></tr><tr><td>&quot;c#&quot;</td><td>101186</td></tr><tr><td>&quot;php&quot;</td><td>98808</td></tr><tr><td>&quot;android&quot;</td><td>90659</td></tr><tr><td>&quot;jquery&quot;</td><td>78542</td></tr><tr><td>&quot;python&quot;</td><td>64601</td></tr><tr><td>&quot;html&quot;</td><td>58976</td></tr><tr><td>&quot;c++&quot;</td><td>47591</td></tr><tr><td>&quot;ios&quot;</td><td>47009</td></tr></tbody></table></div>"
      ],
      "text/plain": [
       "shape: (10, 2)\n",
       "┌────────────┬────────┐\n",
       "│ Tag        ┆ count  │\n",
       "│ ---        ┆ ---    │\n",
       "│ str        ┆ u32    │\n",
       "╞════════════╪════════╡\n",
       "│ javascript ┆ 124155 │\n",
       "│ java       ┆ 115212 │\n",
       "│ c#         ┆ 101186 │\n",
       "│ php        ┆ 98808  │\n",
       "│ android    ┆ 90659  │\n",
       "│ jquery     ┆ 78542  │\n",
       "│ python     ┆ 64601  │\n",
       "│ html       ┆ 58976  │\n",
       "│ c++        ┆ 47591  │\n",
       "│ ios        ┆ 47009  │\n",
       "└────────────┴────────┘"
      ]
     },
     "execution_count": 45,
     "metadata": {},
     "output_type": "execute_result"
    }
   ],
   "source": [
    "df_tags[\"Tag\"].value_counts().sort(\"count\", descending=True).head(10)"
   ]
  },
  {
   "cell_type": "code",
   "execution_count": 46,
   "id": "8911c8de",
   "metadata": {},
   "outputs": [
    {
     "name": "stdout",
     "output_type": "stream",
     "text": [
      "<class 'polars.series.series.Series'>\n"
     ]
    },
    {
     "data": {
      "text/html": [
       "<div><style>\n",
       ".dataframe > thead > tr,\n",
       ".dataframe > tbody > tr {\n",
       "  text-align: right;\n",
       "  white-space: pre-wrap;\n",
       "}\n",
       "</style>\n",
       "<small>shape: (3,)</small><table border=\"1\" class=\"dataframe\"><thead><tr><th>Title</th></tr><tr><td>str</td></tr></thead><tbody><tr><td>&quot;How to display two or more mar…</td></tr><tr><td>&quot;AngularJS: $http.get 405 (Meth…</td></tr><tr><td>&quot;Invariant parameters in Java&quot;</td></tr></tbody></table></div>"
      ],
      "text/plain": [
       "shape: (3,)\n",
       "Series: 'Title' [str]\n",
       "[\n",
       "\t\"How to display two or more mar…\n",
       "\t\"AngularJS: $http.get 405 (Meth…\n",
       "\t\"Invariant parameters in Java\"\n",
       "]"
      ]
     },
     "execution_count": 46,
     "metadata": {},
     "output_type": "execute_result"
    }
   ],
   "source": [
    "_s = df[\"Title\"]\n",
    "print(type(_s))\n",
    "\n",
    "_s.head(3)"
   ]
  },
  {
   "cell_type": "code",
   "execution_count": 47,
   "id": "cba791aa",
   "metadata": {},
   "outputs": [
    {
     "data": {
      "text/plain": [
       "[Int64, String, String, String, Int64, String, String]"
      ]
     },
     "execution_count": 47,
     "metadata": {},
     "output_type": "execute_result"
    }
   ],
   "source": [
    "df.dtypes"
   ]
  },
  {
   "cell_type": "markdown",
   "id": "81fffc83",
   "metadata": {},
   "source": [
    "### Differences with pandas\n",
    "\n",
    "One notable difference with pandas is that Polars DataFrames don't have an index. [This is what the documentation used to say](https://web.archive.org/web/20220206194551/https://pola-rs.github.io/polars-book/user-guide/coming_from_pandas.html#no-index):\n",
    "\n",
    "> ### No index\n",
    ">\n",
    "> They are not needed. Not having them makes things easier. Convince me otherwise\n",
    "\n",
    "[Since pandas 2.0 it is possible to use PyArrow as backend](https://pandas.pydata.org/docs/whatsnew/v2.0.0.html#argument-dtype-backend-to-return-pyarrow-backed-or-numpy-backed-nullable-dtypes), so the performance gap has become a bit smaller. Still, the considerations about the API and the lazy capabilities stand.\n",
    "\n",
    "Some advice on how to migrate from pandas can be found at https://docs.pola.rs/user-guide/migration/pandas/"
   ]
  },
  {
   "cell_type": "markdown",
   "id": "fb577ba2",
   "metadata": {},
   "source": [
    "Here comes a trivial I/O microbenchmark (uses the full dataset):"
   ]
  },
  {
   "cell_type": "code",
   "execution_count": 48,
   "id": "35e2ece2",
   "metadata": {},
   "outputs": [],
   "source": [
    "import pandas as pd"
   ]
  },
  {
   "cell_type": "code",
   "execution_count": 50,
   "id": "976e0b30",
   "metadata": {},
   "outputs": [
    {
     "name": "stdout",
     "output_type": "stream",
     "text": [
      "38.6 s ± 0 ns per loop (mean ± std. dev. of 1 run, 1 loop each)\n"
     ]
    }
   ],
   "source": [
    "%%timeit -n1 -r1\n",
    "pd.read_csv(\"data/Questions.csv\", encoding_errors=\"replace\").to_csv(\"/tmp/questions-throwaway.csv\")"
   ]
  },
  {
   "cell_type": "code",
   "execution_count": 51,
   "id": "a7e3f629",
   "metadata": {},
   "outputs": [
    {
     "name": "stdout",
     "output_type": "stream",
     "text": [
      "3.2 s ± 0 ns per loop (mean ± std. dev. of 1 run, 1 loop each)\n"
     ]
    }
   ],
   "source": [
    "%%timeit -n1 -r1\n",
    "pl.read_csv(\"data/Questions.csv\", encoding=\"utf8-lossy\").write_csv(\"/tmp/questions-throwaway.csv\")"
   ]
  },
  {
   "cell_type": "markdown",
   "id": "0bda217a",
   "metadata": {},
   "source": [
    "## 2. The expression system, filtering rows, transforming columns"
   ]
  },
  {
   "cell_type": "code",
   "execution_count": null,
   "id": "874c4366",
   "metadata": {},
   "outputs": [],
   "source": []
  },
  {
   "cell_type": "markdown",
   "id": "d0c31673",
   "metadata": {},
   "source": [
    "### Exercise\n",
    "\n",
    "What are the most upvoted Python questions?"
   ]
  },
  {
   "cell_type": "markdown",
   "id": "d4a15c5d",
   "metadata": {},
   "source": [
    "## 3. Working with semi-structured data, integration with Pydantic"
   ]
  },
  {
   "cell_type": "code",
   "execution_count": null,
   "id": "09bff436",
   "metadata": {},
   "outputs": [],
   "source": []
  },
  {
   "cell_type": "markdown",
   "id": "171a8884",
   "metadata": {},
   "source": [
    "### Exercise"
   ]
  },
  {
   "cell_type": "markdown",
   "id": "e3982f01",
   "metadata": {},
   "source": [
    "## 4. Cloud storage, out of core processing with the new streaming engine"
   ]
  },
  {
   "cell_type": "code",
   "execution_count": null,
   "id": "994e5eb0",
   "metadata": {},
   "outputs": [],
   "source": []
  }
 ],
 "metadata": {
  "kernelspec": {
   "display_name": ".venv",
   "language": "python",
   "name": "python3"
  },
  "language_info": {
   "codemirror_mode": {
    "name": "ipython",
    "version": 3
   },
   "file_extension": ".py",
   "mimetype": "text/x-python",
   "name": "python",
   "nbconvert_exporter": "python",
   "pygments_lexer": "ipython3",
   "version": "3.11.9"
  }
 },
 "nbformat": 4,
 "nbformat_minor": 5
}
